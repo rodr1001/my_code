{
 "cells": [
  {
   "cell_type": "code",
   "execution_count": null,
   "id": "e92598c4-1911-4204-99d9-1965ac832a57",
   "metadata": {},
   "outputs": [],
   "source": [
    "import csv\n",
    "import ROOT"
   ]
  },
  {
   "cell_type": "code",
   "execution_count": null,
   "id": "a32069cf-0c9e-414b-a0db-4db70c996e74",
   "metadata": {},
   "outputs": [],
   "source": [
    "import pandas as pd"
   ]
  },
  {
   "cell_type": "code",
   "execution_count": null,
   "id": "d073554a-0494-4d94-89d7-896410893e46",
   "metadata": {},
   "outputs": [],
   "source": [
    "cellstats = pd.read_csv('cellstats.csv')"
   ]
  },
  {
   "cell_type": "code",
   "execution_count": null,
   "id": "b3b55027-4b38-49dc-be3c-9582e7ba676b",
   "metadata": {},
   "outputs": [],
   "source": [
    "cellstats.head()"
   ]
  },
  {
   "cell_type": "code",
   "execution_count": null,
   "id": "18cb0e54-3ebc-4b46-86bb-f358dca9dfc6",
   "metadata": {},
   "outputs": [],
   "source": [
    "cellstats.describe()"
   ]
  },
  {
   "cell_type": "code",
   "execution_count": null,
   "id": "91573cc6-a445-4933-860b-e8f6172189fb",
   "metadata": {},
   "outputs": [],
   "source": [
    "import mplhep\n",
    "mplhep.style.use('ROOT')\n",
    "import matplotlib.pyplot as plt\n",
    "import numpy as np"
   ]
  },
  {
   "cell_type": "code",
   "execution_count": null,
   "id": "cd73e8f7-7a28-47ad-8e10-c131a08db535",
   "metadata": {},
   "outputs": [],
   "source": [
    "np.sum(cellstats.NDF == 0)"
   ]
  },
  {
   "cell_type": "code",
   "execution_count": null,
   "id": "b45c0535-e925-4564-848d-c45dd8d26bc0",
   "metadata": {},
   "outputs": [],
   "source": [
    "valid = cellstats[cellstats.NDF > 0]"
   ]
  },
  {
   "cell_type": "code",
   "execution_count": null,
   "id": "414e77e5-0bec-4b41-9d39-6b40fecc095e",
   "metadata": {},
   "outputs": [],
   "source": [
    "h = plt.hist(valid.Chi2/valid.NDF, bins='auto')\n",
    "plt.axvline(5, color='gray', alpha=0.5)\n",
    "plt.show()"
   ]
  },
  {
   "cell_type": "code",
   "execution_count": null,
   "id": "7c13ff6a-7671-4afe-b807-4179cbe3736f",
   "metadata": {},
   "outputs": [],
   "source": [
    "vals, bins, art = h\n",
    "bins[np.argmax(vals)]"
   ]
  },
  {
   "cell_type": "code",
   "execution_count": null,
   "id": "e0e4f017-546a-4032-b288-c4ffd655c283",
   "metadata": {},
   "outputs": [],
   "source": [
    "chi2ndf = valid.Chi2/valid.NDF\n",
    "for name, sl in [\n",
    "    (r'$\\chi^2/ndf < 1$', chi2ndf < 1),\n",
    "    (r'$1 < \\chi^2/ndf < 5$', (chi2ndf > 1)&(chi2ndf < 5)),\n",
    "    (r'$\\chi2/ndf > 5$', chi2ndf > 5)\n",
    "]:\n",
    "    plt.hist(valid[sl].MPV, range=(0,3), bins=600, label=name, histtype='step')\n",
    "plt.ylabel('Cells')\n",
    "plt.xlabel('MPV from Fit / MeV')\n",
    "plt.yscale('log')\n",
    "plt.legend()\n",
    "plt.savefig('chi2ndf.png')\n",
    "plt.show()\n"
   ]
  },
  {
   "cell_type": "code",
   "execution_count": null,
   "id": "4b73a1f0-cd32-4486-896e-2d6ce6cad026",
   "metadata": {},
   "outputs": [],
   "source": [
    "cellstats[\"iradius\"]=np.sqrt((cellstats[\"U\"]-11)*(cellstats[\"U\"]-11)+(cellstats[\"V\"]-11)*(cellstats[\"V\"]-11))"
   ]
  },
  {
   "cell_type": "code",
   "execution_count": null,
   "id": "58a2004d-9417-489e-b662-56c2bd6ea4ba",
   "metadata": {},
   "outputs": [],
   "source": [
    "picked=cellstats[((cellstats.MPV_Error/cellstats.MPV)<0.05)&(cellstats.Layer<2)&(cellstats.MPV>0)&(cellstats.MPV<1)]"
   ]
  },
  {
   "cell_type": "code",
   "execution_count": null,
   "id": "7f7cc877-6b5a-4f6b-90e5-7d16c973c750",
   "metadata": {},
   "outputs": [],
   "source": [
    "plt.scatter(picked.MPV,picked.iradius)\n",
    "#plt.ylabel('Cells')\n",
    "#plt.xlabel('MPV from Fit / MeV')\n",
    "#plt.yscale('log')\n",
    "#plt.legend()\n",
    "#plt.savefig('chi2ndf.png')\n",
    "plt.show()"
   ]
  },
  {
   "cell_type": "code",
   "execution_count": null,
   "id": "e880be64-069e-4551-aa2c-22dba51ab5d4",
   "metadata": {},
   "outputs": [],
   "source": [
    " y = 1 or 0"
   ]
  },
  {
   "cell_type": "code",
   "execution_count": null,
   "id": "716dd2f2-9ee5-437c-8650-70b8a23c4a57",
   "metadata": {},
   "outputs": [],
   "source": [
    "c"
   ]
  },
  {
   "cell_type": "code",
   "execution_count": null,
   "id": "a1f7c414-f3de-4d66-b008-f16a8e1cb2a3",
   "metadata": {},
   "outputs": [],
   "source": [
    "invalid=cellstats[(mpvratio>0.05)&(cellstats.MPV>1)]"
   ]
  },
  {
   "cell_type": "code",
   "execution_count": null,
   "id": "2f7e4e23-1b4b-4ff6-8933-24348c80fc5d",
   "metadata": {},
   "outputs": [],
   "source": [
    "invalid"
   ]
  },
  {
   "cell_type": "code",
   "execution_count": null,
   "id": "5e185771-07b1-4cf1-a5da-97639d4cdfd6",
   "metadata": {},
   "outputs": [],
   "source": [
    "mpvratio= abs(cellstats.MPV_Error/cellstats.MPV)"
   ]
  },
  {
   "cell_type": "code",
   "execution_count": null,
   "id": "fb0f1df3-c083-45be-804e-a66464720045",
   "metadata": {},
   "outputs": [],
   "source": [
    "invalid.describe()n"
   ]
  },
  {
   "cell_type": "code",
   "execution_count": null,
   "id": "f0ba3c43-f2e5-43bf-81f2-fad772f0c053",
   "metadata": {},
   "outputs": [],
   "source": [
    "negvalid=cellstats[(mpvratio>0.05)&(cellstats.MPV<0)]"
   ]
  },
  {
   "cell_type": "code",
   "execution_count": null,
   "id": "2c138748-b58f-47f3-b70b-67ac1cdce472",
   "metadata": {},
   "outputs": [],
   "source": [
    "negvalid"
   ]
  },
  {
   "cell_type": "code",
   "execution_count": null,
   "id": "da7ebe55-e3d7-45c7-9886-8155c17aa208",
   "metadata": {},
   "outputs": [],
   "source": [
    "negvalid = negvalid[(negvalid.Layer == 0)]"
   ]
  },
  {
   "cell_type": "code",
   "execution_count": null,
   "id": "88dca15b-6e37-48fd-8d85-18e427249d1b",
   "metadata": {},
   "outputs": [],
   "source": [
    "negvalid"
   ]
  },
  {
   "cell_type": "code",
   "execution_count": null,
   "id": "354ae789-854f-4168-b576-b938a414902e",
   "metadata": {},
   "outputs": [],
   "source": [
    "invalid = invalid[(invalid.Layer == 0)]"
   ]
  },
  {
   "cell_type": "code",
   "execution_count": null,
   "id": "d462e483-7011-48f0-a42e-24db1d08d1a7",
   "metadata": {},
   "outputs": [],
   "source": [
    "invalid"
   ]
  },
  {
   "cell_type": "code",
   "execution_count": null,
   "id": "630b4642-7c30-4b51-840c-1f92315af198",
   "metadata": {},
   "outputs": [],
   "source": [
    "#picked=cellstats[((cellstats.MPV_Error/cellstats.MPV)<0.05)&(cellstats.Layer<2)&(cellstats.MPV>0)&(cellstats.MPV<1)]"
   ]
  },
  {
   "cell_type": "code",
   "execution_count": null,
   "id": "a1497d3c-adf8-4758-a421-6c2cd0d504e3",
   "metadata": {},
   "outputs": [],
   "source": [
    "import ROOT\n",
    "f = ROOT.TFile('hist-no-filtering.root')\n",
    "d = f.Get('MAC2')\n",
    "c = ROOT.TCanvas()"
   ]
  },
  {
   "cell_type": "code",
   "execution_count": null,
   "id": "f596471f-f259-449f-8929-8e383d50c4fb",
   "metadata": {},
   "outputs": [],
   "source": [
    "#restricting to the first layer for now\n",
    "l = 0\n",
    "for i, row in invalid.iterrows():\n",
    "    #l = int(row['Layer'])\n",
    "    u = int(row['U'])\n",
    "    v =int(row['V'])\n",
    "    x = 'MAC2_cell_amplitude_l'+ str(l)+'_m0_u'+str(u)+'_v'+str(v)\n",
    "    print (x)"
   ]
  },
  {
   "cell_type": "code",
   "execution_count": null,
   "id": "c273e525-64de-41aa-9c5c-9a643408f0ac",
   "metadata": {},
   "outputs": [],
   "source": [
    "x"
   ]
  },
  {
   "cell_type": "code",
   "execution_count": null,
   "id": "f18ae132-c86b-4ff3-9354-3af635f2f596",
   "metadata": {},
   "outputs": [],
   "source": [
    "h = d.Get(x)"
   ]
  },
  {
   "cell_type": "code",
   "execution_count": null,
   "id": "5477af6d-6d10-4315-9d53-beb5d5fa6f28",
   "metadata": {},
   "outputs": [],
   "source": [
    "h.Draw()"
   ]
  },
  {
   "cell_type": "code",
   "execution_count": null,
   "id": "d6efe659-8cd6-4316-b38f-01e33cdc5394",
   "metadata": {},
   "outputs": [],
   "source": [
    "fr = h.Fit('landau','SQM').Get()"
   ]
  },
  {
   "cell_type": "code",
   "execution_count": null,
   "id": "082ef0b0-326a-4311-bc7a-208ea68c9988",
   "metadata": {},
   "outputs": [],
   "source": [
    "h.Draw()\n",
    "c.Draw()"
   ]
  },
  {
   "cell_type": "code",
   "execution_count": null,
   "id": "bd5ddc57-d30c-47e3-9fa8-f427595c5cdc",
   "metadata": {},
   "outputs": [],
   "source": [
    "fr.Parameter(1)"
   ]
  },
  {
   "cell_type": "code",
   "execution_count": null,
   "id": "933dd84a-0881-4da4-8cb1-b8541b9cbaeb",
   "metadata": {},
   "outputs": [],
   "source": [
    "pd"
   ]
  },
  {
   "cell_type": "code",
   "execution_count": null,
   "id": "d2275d93-9423-4b52-97ea-272e47c9e08f",
   "metadata": {},
   "outputs": [],
   "source": [
    "import pandas as pd\n",
    "cs = pd.read_csv('cellstats.csv')\n",
    "cs"
   ]
  },
  {
   "cell_type": "code",
   "execution_count": null,
   "id": "5a5d01a0-660a-4f14-9242-a9ed96a633f9",
   "metadata": {},
   "outputs": [],
   "source": [
    "cs[cs.MPV > 1]"
   ]
  },
  {
   "cell_type": "code",
   "execution_count": null,
   "id": "c571b304-d244-4ef1-bfe5-be0d6921bc58",
   "metadata": {},
   "outputs": [],
   "source": [
    "import uproot\n",
    "import numpy as np\n",
    "import scipy\n",
    "import matplotlib.pyplot as plt\n",
    "\n",
    "# landau is provided by https://github.com/SengerM/landaupy\n",
    "from landaupy import landau\n",
    "\n",
    "def scaled_landau(amplitude, constant, mpv, width):\n",
    "    return constant*landau.pdf(amplitude, x_mpv=mpv, xi=width)\n",
    "\n",
    "def fit(histogram, drop_zero_bins = True):\n",
    "    x = histogram.axis().centers()\n",
    "    y = histogram.values()\n",
    "    yerr = np.sqrt(histogram.variances())\n",
    "\n",
    "    if drop_zero_bins:\n",
    "        x = x[y > 0]\n",
    "        yerr = yerr[y > 0]\n",
    "        y = y[y > 0]\n",
    "\n",
    "    return scipy.optimize.curve_fit(\n",
    "        scaled_landau,\n",
    "        xdata = x,\n",
    "        ydata = y,\n",
    "        sigma = yerr,\n",
    "        absolute_sigma = True\n",
    "    )\n",
    "\n",
    "\n",
    "def fit_and_plot(histogram, fit_kw = {}, plt_range = None, **plot_kw):\n",
    "    opt, cov = fit(histogram, **fit_kw)\n",
    "    if plt_range is None:\n",
    "        plt_range = histogram.axis().centers()\n",
    "    mplhep.histplot(histogram, label='Histogram')\n",
    "    plt.plot(plt_range, scaled_landau(plt_range, *opt), label='Fit', **plot_kw)\n",
    "    plt.legend()\n",
    "    return opt, cov\n",
    "\n",
    "f = uproot.open('hist-no-filtering.root')"
   ]
  },
  {
   "cell_type": "code",
   "execution_count": null,
   "id": "de370b13-e150-433e-bcd4-c2ec68a0f915",
   "metadata": {},
   "outputs": [],
   "source": [
    "opt, cov = fit_and_plot(\n",
    "    f['MAC2/MAC2_cell_amplitude_l0_m0_u16_v12'],\n",
    "    plt_range=np.linspace(0,3,200)\n",
    ")\n",
    "plt.axvline(0.26, color='gray')\n",
    "plt.show()"
   ]
  },
  {
   "cell_type": "code",
   "execution_count": null,
   "id": "0c40832c-6f00-4f60-9d45-49c428359412",
   "metadata": {},
   "outputs": [],
   "source": [
    "print('[Constant x_MPV Sigma]')\n",
    "print(opt)\n",
    "print(np.sqrt(np.diag(cov)))"
   ]
  },
  {
   "cell_type": "code",
   "execution_count": null,
   "id": "c2413868-4408-42eb-ba5d-51aac299cffd",
   "metadata": {},
   "outputs": [],
   "source": [
    "!pip install git+https://github.com/SengerM/landaupy"
   ]
  },
  {
   "cell_type": "code",
   "execution_count": null,
   "id": "c2cbf7ba-649c-4545-bde3-b05d91ec16a6",
   "metadata": {},
   "outputs": [],
   "source": []
  }
 ],
 "metadata": {
  "kernelspec": {
   "display_name": "Python 3 (ipykernel)",
   "language": "python",
   "name": "python3"
  },
  "language_info": {
   "codemirror_mode": {
    "name": "ipython",
    "version": 3
   },
   "file_extension": ".py",
   "mimetype": "text/x-python",
   "name": "python",
   "nbconvert_exporter": "python",
   "pygments_lexer": "ipython3",
   "version": "3.10.12"
  }
 },
 "nbformat": 4,
 "nbformat_minor": 5
}
